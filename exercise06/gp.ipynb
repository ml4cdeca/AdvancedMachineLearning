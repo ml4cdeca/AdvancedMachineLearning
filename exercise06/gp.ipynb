{
 "cells": [
  {
   "cell_type": "code",
   "execution_count": 10,
   "metadata": {},
   "outputs": [],
   "source": [
    "import sys\n",
    "import argparse\n",
    "from scipy.misc import imread, imsave\n",
    "import numpy as np\n",
    "import time\n",
    "import scipy.sparse as sp\n",
    "import scipy.sparse.linalg as sLA\n",
    "import scipy.spatial\n",
    "import matplotlib.pyplot as plt"
   ]
  },
  {
   "cell_type": "code",
   "execution_count": 26,
   "metadata": {},
   "outputs": [],
   "source": [
    "img=plt.imread('cc_90.png')\n",
    "coord=np.indices(img.shape).reshape(2,-1).T\n",
    "#training data\n",
    "X=coord[img.flatten()!=0]\n",
    "y=img[img!=0].flatten()"
   ]
  },
  {
   "cell_type": "code",
   "execution_count": 11,
   "metadata": {},
   "outputs": [],
   "source": [
    "def gaussian_kernel(data, sigma, max_distance):\n",
    "    \"\"\"Compute the gaussian kernel matrix.\n",
    "\n",
    "    :param data: data matrix\n",
    "    :param sigma: parameter sigma of the gaussian kernel\n",
    "    :return: gaussian kernel matrix\n",
    "    \"\"\"\n",
    "    assert len(data.shape) == 2\n",
    "    assert sigma > 0\n",
    "\n",
    "    factor = -0.5 /  (sigma ** 2)\n",
    "    limit = numpy.exp(factor*max_distance**2)\n",
    "    # Find the pairwise squared distances and compute the Gaussian kernel.\n",
    "    K = []\n",
    "    for k in data:\n",
    "        d = numpy.exp(factor*numpy.sum((data - k)**2,axis=1))\n",
    "        d[d < limit] = 0.0  # truncate the Gaussian\n",
    "        d = scipy.sparse.csc_matrix(d[:,None])\n",
    "        K.append(d)\n",
    "    K = scipy.sparse.hstack(K)\n",
    "    return K\n",
    "\n",
    "def compute_alpha(train_x, train_y, tau, sigma, max_distance):\n",
    "    \"\"\"Compute the alpha vector of the ridge regressor.\n",
    "\n",
    "    :param train_x: training x data\n",
    "    :param train_y: training y data\n",
    "    :param tau: parameter tau of the ridge regressor\n",
    "    :param sigma: parameter sigma of the gaussian kernel\n",
    "    :return: alpha vector\n",
    "    \"\"\"\n",
    "    print(\"building input kernel matrix\")\n",
    "    K = gaussian_kernel(train_x, sigma, max_distance)\n",
    "    print(\"sparsity: %.2f%%\" % (float(100*K.nnz) / (K.shape[0]*K.shape[1])))\n",
    "    M = K + tau * scipy.sparse.identity(train_x.shape[0])\n",
    "    y = scipy.sparse.csc_matrix(train_y[:,None])\n",
    "    print(\"solving sparse system\")\n",
    "    alpha = scipy.sparse.linalg.cg(M, train_y)\n",
    "    print(\"done computing alpha\")\n",
    "    return alpha[0]\n"
   ]
  },
  {
   "cell_type": "code",
   "execution_count": 12,
   "metadata": {},
   "outputs": [],
   "source": [
    "class KernelRidgeRegressor(object):\n",
    "    \"\"\"Kernel Ridge Regressor.\n",
    "    \"\"\"\n",
    "\n",
    "    def __init__(self, tau, sigma):\n",
    "        self.dim = None\n",
    "        self.train_x = None\n",
    "        self.alpha = None\n",
    "        self.mean_y = None\n",
    "        self.std_y = None\n",
    "        self.tau = tau\n",
    "        self.sigma = sigma\n",
    "        self.scale = -0.5 / sigma**2\n",
    "        self.max_distance = 4.0*sigma\n",
    "\n",
    "    def train(self, train_x, train_y):\n",
    "        \"\"\"Train the kernel ridge regressor.\n",
    "\n",
    "        :param train_x: training x data\n",
    "        :param train_y: training y data\n",
    "        \"\"\"\n",
    "        assert len(train_x.shape) == 2\n",
    "        assert len(train_y.shape) == 1\n",
    "        assert train_x.shape[0] == train_y.shape[0]\n",
    "\n",
    "        self.dim = train_x.shape[1]\n",
    "        self.train_x = train_x.astype(numpy.float32)\n",
    "        self.tree = scipy.spatial.cKDTree(self.train_x)\n",
    "\n",
    "        self.mean_y = train_y.mean()\n",
    "        self.std_y = train_y.std()\n",
    "        train_y_std = (train_y - self.mean_y) / self.std_y\n",
    "\n",
    "        self.alpha = compute_alpha(self.train_x, train_y_std, self.tau, self.sigma, self.max_distance)\n",
    "\n",
    "\n",
    "    def predict_single(self, pred_x):\n",
    "        \"\"\"Predict the value of a single instance.\n",
    "\n",
    "        :param pred_x: x data\n",
    "        :return: predicted value of pred_x\n",
    "        \"\"\"\n",
    "        assert len(pred_x.shape) == 1\n",
    "        assert pred_x.shape[0] == self.dim\n",
    "        indices = numpy.asarray(self.tree.query_ball_point(pred_x, self.max_distance), dtype=numpy.dtype(\"i8\"))\n",
    "        dist = numpy.sum((self.train_x[indices]-pred_x)**2, axis=1)\n",
    "        kappa = numpy.exp(self.scale*dist)\n",
    "        pred_y = numpy.dot(kappa, self.alpha[indices])\n",
    "        return self.std_y * pred_y + self.mean_y\n",
    "\n",
    "    def predict(self, pred_x):\n",
    "        \"\"\"Predict the values of pred_x.\n",
    "\n",
    "        :param pred_x: x data\n",
    "        :return: predicted values of pred_x\n",
    "        \"\"\"\n",
    "        assert len(pred_x.shape) == 2\n",
    "        assert pred_x.shape[1] == self.dim\n",
    "        pred_x = pred_x.astype(numpy.float32)\n",
    "        return numpy.array([self.predict_single(x) for x in pred_x])\n"
   ]
  },
  {
   "cell_type": "code",
   "execution_count": 33,
   "metadata": {},
   "outputs": [],
   "source": [
    "KernelRidgeRegressors={}"
   ]
  },
  {
   "cell_type": "code",
   "execution_count": 34,
   "metadata": {},
   "outputs": [],
   "source": [
    "\n",
    "def kernel_ridge_regression(tau, sigma):\n",
    "    # Load the image.\n",
    "    im_orig = numpy.squeeze(plt.imread(\"cc_90.png\"))\n",
    "\n",
    "    # Make a copy, so both the original and the regressed image can be shown afterwards.\n",
    "    im = numpy.array(im_orig)\n",
    "\n",
    "    # Find the known pixels and the pixels that shall be predicted.\n",
    "    known_ind = numpy.where(im != 0)\n",
    "    unknown_ind = numpy.where(im == 0)\n",
    "    known_x = numpy.array(known_ind).transpose()\n",
    "    known_y = numpy.array(im[known_ind])\n",
    "    pred_x = numpy.array(unknown_ind).transpose()\n",
    "    \n",
    "    # Train and predict with the given regressor.\n",
    "    start = time.time()\n",
    "    print(\"training...\")\n",
    "    r = KernelRidgeRegressor(tau, sigma)\n",
    "    #saving kernel matrices\n",
    "    try:\n",
    "        r = KernelRidgeRegressors[tau,sigma]\n",
    "    except KeyError:\n",
    "        r.train(known_x, known_y)\n",
    "        KernelRidgeRegressors[tau,sigma] = r\n",
    "    print(\"done training\")\n",
    "    # pickle.dump(r, open(\"regressor.p\", \"wb\"))\n",
    "    # r = pickle.load(open(\"regressor.p\", \"rb\"))\n",
    "    print(\"predicting...\")\n",
    "    #pred_y = r.predict(pred_x)\n",
    "    y = r.predict(coord)\n",
    "    print(\"done predicting\")\n",
    "\n",
    "    # Write the predicted values back into the image and show the result.\n",
    "    #im[unknown_ind] = pred_y\n",
    "    stop = time.time()\n",
    "    print(\"Train and predict took %.02f seconds.\" % (stop-start))\n",
    "    print(im.shape)\n",
    "    plt.imshow(y.reshape(im.shape),cmap='gray')\n",
    "    plt.axis('off')\n",
    "    #plt.save(\"res.png\", im)\n"
   ]
  },
  {
   "cell_type": "code",
   "execution_count": 36,
   "metadata": {},
   "outputs": [
    {
     "name": "stdout",
     "output_type": "stream",
     "text": [
      "training...\n",
      "done training\n",
      "predicting...\n",
      "done predicting\n",
      "Train and predict took 2.40 seconds.\n",
      "(338, 250)\n"
     ]
    },
    {
     "data": {
      "image/png": "[encoded data removed]",
      "text/plain": [
       "<Figure size 432x288 with 1 Axes>"
      ]
     },
     "metadata": {
      "needs_background": "light"
     },
     "output_type": "display_data"
    }
   ],
   "source": [
    "kernel_ridge_regression(2,2)"
   ]
  },
  {
   "cell_type": "code",
   "execution_count": null,
   "metadata": {},
   "outputs": [],
   "source": []
  }
 ],
 "metadata": {
  "kernelspec": {
   "display_name": "Python 3",
   "language": "python",
   "name": "python3"
  },
  "language_info": {
   "codemirror_mode": {
    "name": "ipython",
    "version": 3
   },
   "file_extension": ".py",
   "mimetype": "text/x-python",
   "name": "python",
   "nbconvert_exporter": "python",
   "pygments_lexer": "ipython3",
   "version": "3.7.3"
  }
 },
 "nbformat": 4,
 "nbformat_minor": 2
}
