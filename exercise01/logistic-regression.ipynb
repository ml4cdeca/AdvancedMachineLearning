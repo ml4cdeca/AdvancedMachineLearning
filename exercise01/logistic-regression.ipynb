{
 "cells": [
  {
   "cell_type": "markdown",
   "metadata": {},
   "source": [
    "# Exercise 1\n",
    "## 1 Loading the Dataset"
   ]
  },
  {
   "cell_type": "code",
   "execution_count": 21,
   "metadata": {},
   "outputs": [],
   "source": [
    "import numpy as np\n",
    "import matplotlib.pyplot as plt\n",
    "from sklearn.datasets import load_digits\n",
    "from sklearn.linear_model import LogisticRegression\n",
    "from sklearn.model_selection import cross_validate,train_test_split,KFold\n",
    "import warnings\n",
    "warnings.filterwarnings('ignore')"
   ]
  },
  {
   "cell_type": "code",
   "execution_count": 3,
   "metadata": {},
   "outputs": [],
   "source": [
    "#load dataset\n",
    "digits = load_digits ()\n",
    "data = digits[\"data\"]\n",
    "images = digits[\"images\"]\n",
    "target = digits[\"target\"]\n",
    "target_names = digits[\"target_names\"]\n",
    "\n",
    "#data filtering \n",
    "num_1, num_2 = 3, 8\n",
    "mask = np.logical_or(target == num_1, target == num_2)\n",
    "data = data[mask]\n",
    "target = target[mask]\n",
    "\n",
    "#add column of 1's\n",
    "data = np.hstack((data,np.ones((len(data),1))))\n",
    "\n",
    "#relabel targets\n",
    "target[target == num_1] = 1\n",
    "target[target == num_2] = -1"
   ]
  },
  {
   "cell_type": "markdown",
   "metadata": {},
   "source": [
    "### 1.1 Classification with sklearn"
   ]
  },
  {
   "cell_type": "code",
   "execution_count": 46,
   "metadata": {},
   "outputs": [],
   "source": [
    "def hyperpar(lambdaSpace,k_splits=20):\n",
    "    #grid search\n",
    "    means=[]\n",
    "    for i in range(len(lambdaSpace)):\n",
    "        kf = KFold(n_splits=k_splits)\n",
    "        kf.get_n_splits(data)\n",
    "        scores=[]\n",
    "        for train_index, test_index in kf.split(data):\n",
    "            logReg=LogisticRegression(C=lambdaSpace[i],solver='lbfgs')\n",
    "            logReg.fit(data[train_index],target[train_index])\n",
    "            scores.append(logReg.score(data[test_index],target[test_index]))\n",
    "        means.append(np.mean(scores))\n",
    "    return means"
   ]
  },
  {
   "cell_type": "code",
   "execution_count": 49,
   "metadata": {},
   "outputs": [
    {
     "data": {
      "text/plain": [
       "[0.9859477124183007,\n",
       " 0.9915032679738562,\n",
       " 0.9942810457516339,\n",
       " 0.9942810457516339,\n",
       " 0.9942810457516339,\n",
       " 0.9942810457516339,\n",
       " 0.9942810457516339,\n",
       " 0.9972222222222221]"
      ]
     },
     "execution_count": 49,
     "metadata": {},
     "output_type": "execute_result"
    }
   ],
   "source": [
    "lam=np.logspace(-2,5,8)\n",
    "hyperpar(lam)"
   ]
  },
  {
   "cell_type": "markdown",
   "metadata": {},
   "source": [
    "Since the means are all similar or even equal we choose $\\lambda=100$"
   ]
  },
  {
   "cell_type": "markdown",
   "metadata": {},
   "source": [
    "### 1.2 Optimization Methods"
   ]
  },
  {
   "cell_type": "code",
   "execution_count": 62,
   "metadata": {},
   "outputs": [],
   "source": [
    "def sigmoid(z):\n",
    "    return 1/(1+np.exp(-z))\n",
    "\n",
    "def gradient(beta,X,y,lam=100):\n",
    "    return beta-lam/len(X)*np.sum(np.multiply(sigmoid(-np.multiply(y,X@beta)),np.multiply(y,X.T)),axis=1)\n",
    "    \n",
    "def predict(beta,X):\n",
    "    return X@beta\n",
    "\n",
    "def zero_one_loss(y_pred,y_truth):\n",
    "    return np.count_nonzero(y_pred!=y_truth)"
   ]
  },
  {
   "cell_type": "code",
   "execution_count": 54,
   "metadata": {},
   "outputs": [
    {
     "data": {
      "text/plain": [
       "(array([[4, 0, 2],\n",
       "        [1, 0, 3],\n",
       "        [1, 0, 3],\n",
       "        [3, 0, 4]]), array([ 1,  1, -1,  1]), array([4, 2, 3]))"
      ]
     },
     "execution_count": 54,
     "metadata": {},
     "output_type": "execute_result"
    }
   ],
   "source": [
    "#dummy data\n",
    "y=np.array([1,1,-1,1])\n",
    "X=np.random.randint(0,5,size=(4,3))\n",
    "b=np.random.randint(1,5,3)\n",
    "X,y,b"
   ]
  },
  {
   "cell_type": "code",
   "execution_count": null,
   "metadata": {},
   "outputs": [],
   "source": []
  }
 ],
 "metadata": {
  "kernelspec": {
   "display_name": "Python 3",
   "language": "python",
   "name": "python3"
  },
  "language_info": {
   "codemirror_mode": {
    "name": "ipython",
    "version": 3
   },
   "file_extension": ".py",
   "mimetype": "text/x-python",
   "name": "python",
   "nbconvert_exporter": "python",
   "pygments_lexer": "ipython3",
   "version": "3.7.1"
  }
 },
 "nbformat": 4,
 "nbformat_minor": 2
}
