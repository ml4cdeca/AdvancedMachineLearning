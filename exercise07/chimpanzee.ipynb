{
 "cells": [
  {
   "cell_type": "code",
   "execution_count": 1,
   "metadata": {},
   "outputs": [],
   "source": [
    "import numpy as np"
   ]
  },
  {
   "cell_type": "code",
   "execution_count": null,
   "metadata": {},
   "outputs": [],
   "source": []
  },
  {
   "cell_type": "code",
   "execution_count": 98,
   "metadata": {},
   "outputs": [],
   "source": [
    "#constructing model for forward-backward algorithm \n",
    "class forward_backward:\n",
    "    def __init__(self,states,obs,observation,trans,obs_trans,bias):\n",
    "        self.states = states\n",
    "        self.obs = obs\n",
    "        self.observation = observation\n",
    "        self.trans = trans\n",
    "        self.obs_trans = obs_trans\n",
    "        self.bias = bias\n",
    "    \n",
    "    def forward(self,state,t):\n",
    "        state_index = np.where(states==state)[0][0]\n",
    "        if t == 0:\n",
    "            return self.bias[state_index]*self.obs_trans[self.observation[0]][state_index]\n",
    "        else:\n",
    "            alpha = 0\n",
    "            for i in range(len(self.states)):\n",
    "                alpha += self.trans[state_index][i]*self.forward(self.states[i],t-1)\n",
    "            return self.obs_trans[state_index][self.observation[t]]*alpha\n",
    "    \n",
    "    def backward(self,state,t):\n",
    "        state_index = np.where(states==state)[0][0]\n",
    "        if t == (len(self.observation)-1):\n",
    "            return 1\n",
    "        else:\n",
    "            beta = 0\n",
    "            for i in range(len(self.states)):\n",
    "                beta += self.trans[state_index][i]*self.obs_trans[i][self.observation[t+1]]*self.backward(self.states[i],t+1)\n",
    "            return beta\n",
    "        \n",
    "    def predict_probabilites(self):\n",
    "        predictions = []\n",
    "        for t in range(len(self.observation)):\n",
    "            probs = []\n",
    "            for i in range(len(self.states)):\n",
    "                x_t = self.states[i]\n",
    "                probs.append(self.obs_trans[i][self.observation[t]]*self.backward(x_t,t)*self.forward(x_t,t))\n",
    "            predictions.append(probs)\n",
    "        return predictions\n",
    "    \n",
    "    def predict_states(self):\n",
    "        predictions = []\n",
    "        for t in range(len(self.observation)):\n",
    "            probs = []\n",
    "            for i in range(len(self.states)):\n",
    "                x_t = self.states[i]\n",
    "                probs.append(self.obs_trans[i][self.observation[t]]*self.backward(x_t,t)*self.forward(x_t,t))\n",
    "            predictions.append(self.states[np.argmax(probs)])\n",
    "        return predictions"
   ]
  },
  {
   "cell_type": "code",
   "execution_count": 94,
   "metadata": {},
   "outputs": [],
   "source": [
    "#constructing model for viterbi algorithm \n",
    "class viterbi:\n",
    "    def __init__(self,states,obs,observation,trans,obs_trans,bias):\n",
    "        self.states = states\n",
    "        self.obs = obs\n",
    "        self.observation = observation\n",
    "        self.F = -np.log(trans)\n",
    "        self.G = -np.log(obs_trans)\n",
    "        self.bias = bias\n",
    "        self.beta = []\n",
    "    \n",
    "    def backward(self,state,t):\n",
    "        state_index = np.where(states==state)[0][0]\n",
    "        if t == (len(self.observation)-1):\n",
    "            return 0\n",
    "        else:\n",
    "            beta_list = []\n",
    "            for i in range(len(self.states)):\n",
    "                x_t = self.states[i]\n",
    "                beta_list.append(self.G[i][self.observation[t+1]] + self.F[state_index][i] + self.backward(x_t,t+1))\n",
    "            return min(beta_list)\n",
    "    \n",
    "    def construct_beta(self):\n",
    "        beta_list = []\n",
    "        for state_index in range(len(self.states)):\n",
    "            x_t = self.states[state_index]\n",
    "            beta = []\n",
    "            for t in range(len(self.observation)):\n",
    "                beta.append(self.backward(x_t,t))\n",
    "            beta_list.append(beta)\n",
    "        return beta_list\n",
    "    \n",
    "    def forward(self,t,beta):\n",
    "        if t == 0:\n",
    "            x_list = []\n",
    "            for i in range(len(self.states)):\n",
    "                x_list.append(self.G[i][self.observation[t]] - np.log(self.bias[i]) + beta[i][t])\n",
    "            return self.states[np.argmin(x_list)]\n",
    "        else:\n",
    "            x_list = []\n",
    "            for i in range(len(self.states)):\n",
    "                x_t = self.states[i]\n",
    "                x_list.append(self.G[i][self.observation[t]] - self.F[i][self.forward(t-1,beta)] + beta[i][t])\n",
    "            return self.states[np.argmin(x_list)]\n",
    "    \n",
    "    def predict_states(self,beta):\n",
    "        predictions = []\n",
    "        for t in range(len(self.observation)):\n",
    "            predictions.append(self.forward(t,beta))\n",
    "        return predictions"
   ]
  },
  {
   "cell_type": "code",
   "execution_count": null,
   "metadata": {},
   "outputs": [],
   "source": [
    "#defining states and probabilities\n",
    "states = np.array([0,1])\n",
    "obs = np.array([0,1,2])\n",
    "observation = np.array([0,1,1,0,2,0,2,2,2,0,2,2,2,2,2,0,0,1,1,2])\n",
    "trans = np.array([[.5,.5],[.5,.5]])\n",
    "obs_trans = np.array([[.5,.4,.1],[.4,.1,.5]])\n",
    "bias = np.array([.5,.5])"
   ]
  },
  {
   "cell_type": "code",
   "execution_count": 99,
   "metadata": {},
   "outputs": [],
   "source": [
    "#constucting models\n",
    "chimp = forward_backward(states,obs,observation,trans,obs_trans,bias)\n",
    "chimpvit = viterbi(states,obs,observation,trans,obs_trans,bias)"
   ]
  },
  {
   "cell_type": "code",
   "execution_count": 92,
   "metadata": {},
   "outputs": [],
   "source": [
    "#to do calculations in forward more efficient, all betas are computed beforehand\n",
    "Beta = chimpvit.construct_beta()"
   ]
  },
  {
   "cell_type": "code",
   "execution_count": 96,
   "metadata": {},
   "outputs": [
    {
     "data": {
      "text/plain": [
       "[0, 0, 0, 0, 1, 0, 1, 1, 1, 0, 1, 1, 1, 1, 1, 0, 0, 0, 0, 1]"
      ]
     },
     "execution_count": 96,
     "metadata": {},
     "output_type": "execute_result"
    }
   ],
   "source": [
    "#predictions of viterbi algorithm\n",
    "chimpvit.predict_states(Beta)"
   ]
  },
  {
   "cell_type": "code",
   "execution_count": 100,
   "metadata": {},
   "outputs": [
    {
     "name": "stdout",
     "output_type": "stream",
     "text": [
      "[[5.320410768127444e-11, 3.4050628916015644e-11], [6.129113204882816e-11, 3.83069575305176e-12], [6.129113204882817e-11, 3.830695753051761e-12], [5.320410768127445e-11, 3.405062891601565e-11], [3.1922464608764672e-12, 7.980616152191167e-11], [5.3204107681274444e-11, 3.4050628916015644e-11], [3.1922464608764672e-12, 7.980616152191167e-11], [3.192246460876467e-12, 7.980616152191166e-11], [3.1922464608764664e-12, 7.980616152191167e-11], [5.320410768127444e-11, 3.4050628916015644e-11], [3.1922464608764664e-12, 7.980616152191166e-11], [3.1922464608764664e-12, 7.980616152191164e-11], [3.1922464608764664e-12, 7.980616152191164e-11], [3.192246460876467e-12, 7.980616152191166e-11], [3.192246460876466e-12, 7.980616152191166e-11], [5.320410768127443e-11, 3.405062891601564e-11], [5.3204107681274425e-11, 3.405062891601564e-11], [6.129113204882813e-11, 3.830695753051758e-12], [6.129113204882813e-11, 3.830695753051758e-12], [3.1922464608764656e-12, 7.980616152191164e-11]]\n",
      "[0, 0, 0, 0, 1, 0, 1, 1, 1, 0, 1, 1, 1, 1, 1, 0, 0, 0, 0, 1]\n"
     ]
    }
   ],
   "source": [
    "#probabilities and predictions of forward backward algorithm\n",
    "print(chimp.predict_probabilites())\n",
    "print(chimp.predict_states())"
   ]
  },
  {
   "cell_type": "markdown",
   "metadata": {},
   "source": [
    "The predictions of the chimpanzees prediction are the same for both models"
   ]
  },
  {
   "cell_type": "code",
   "execution_count": null,
   "metadata": {},
   "outputs": [],
   "source": []
  }
 ],
 "metadata": {
  "kernelspec": {
   "display_name": "Python 3",
   "language": "python",
   "name": "python3"
  },
  "language_info": {
   "codemirror_mode": {
    "name": "ipython",
    "version": 3
   },
   "file_extension": ".py",
   "mimetype": "text/x-python",
   "name": "python",
   "nbconvert_exporter": "python",
   "pygments_lexer": "ipython3",
   "version": "3.7.1"
  }
 },
 "nbformat": 4,
 "nbformat_minor": 2
}
