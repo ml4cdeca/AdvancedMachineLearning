{
 "cells": [
  {
   "cell_type": "code",
   "execution_count": 1,
   "metadata": {},
   "outputs": [],
   "source": [
    "import numpy as np"
   ]
  },
  {
   "cell_type": "code",
   "execution_count": 107,
   "metadata": {},
   "outputs": [],
   "source": [
    "class forward_backward:\n",
    "    def __init__(self,states,obs,observation,trans,obs_trans,bias):\n",
    "        self.states = states\n",
    "        self.obs = obs\n",
    "        self.observation = observation\n",
    "        self.trans = trans\n",
    "        self.obs_trans = obs_trans\n",
    "        self.bias = bias\n",
    "    \n",
    "    def forward(self,state,t):\n",
    "        state_index = np.where(states==state)[0][0]\n",
    "        if t == 0:\n",
    "            return self.bias[state_index]*self.obs_trans[self.observation[0]][state_index]\n",
    "        else:\n",
    "            alpha = 0\n",
    "            for i in range(len(self.states)):\n",
    "                alpha += self.trans[state_index][i]*self.forward(self.states[i],t-1)\n",
    "            return self.obs_trans[state_index][self.observation[t]]*alpha\n",
    "    \n",
    "    def backward(self,state,t):\n",
    "        state_index = np.where(states==state)[0][0]\n",
    "        if t == (len(self.observation)-1):\n",
    "            return 1\n",
    "        else:\n",
    "            beta = 0\n",
    "            for i in range(len(self.states)):\n",
    "                beta += self.trans[state_index][i]*self.obs_trans[i][self.observation[t+1]]*self.backward(self.states[i],t+1)\n",
    "            return beta\n",
    "       \n",
    "    def predict_states(self):\n",
    "        predictions = []\n",
    "        for t in range(len(self.observation)):\n",
    "            probs = []\n",
    "            for i in range(len(self.states)):\n",
    "                x_t = self.states[i]\n",
    "                probs.append(self.obs_trans[i][self.observation[t]]*self.backward(x_t,t)*self.forward(x_t,t))\n",
    "            predictions.append(self.states[np.argmax(probs)])\n",
    "        return predictions"
   ]
  },
  {
   "cell_type": "code",
   "execution_count": 108,
   "metadata": {},
   "outputs": [],
   "source": [
    "states = np.array([0,1])\n",
    "obs = np.array([0,1,2])\n",
    "observation = np.array([0,1,1,0,2,0,2,2,2,0,2,2,2,2,2,0,0,1,1,2])\n",
    "trans = np.array([[.5,.5],[.5,.5]])\n",
    "obs_trans = np.array([[.5,.4,.1],[.4,.1,.5]])\n",
    "bias = np.array([.5,.5])\n",
    "chimp = forward_backward(states,obs,observation,trans,obs_trans,bias)"
   ]
  },
  {
   "cell_type": "code",
   "execution_count": 109,
   "metadata": {},
   "outputs": [
    {
     "data": {
      "text/plain": [
       "[0, 0, 0, 0, 1, 0, 1, 1, 1, 0, 1, 1, 1, 1, 1, 0, 0, 0, 0, 1]"
      ]
     },
     "execution_count": 109,
     "metadata": {},
     "output_type": "execute_result"
    }
   ],
   "source": [
    "chimp.predict_states()"
   ]
  },
  {
   "cell_type": "code",
   "execution_count": 97,
   "metadata": {},
   "outputs": [
    {
     "data": {
      "text/plain": [
       "2"
      ]
     },
     "execution_count": 97,
     "metadata": {},
     "output_type": "execute_result"
    }
   ],
   "source": [
    "np.argmax([2,3,4])"
   ]
  },
  {
   "cell_type": "code",
   "execution_count": 106,
   "metadata": {},
   "outputs": [
    {
     "data": {
      "text/plain": [
       "0"
      ]
     },
     "execution_count": 106,
     "metadata": {},
     "output_type": "execute_result"
    }
   ],
   "source": [
    "np.where(np.array([1,2,3])==1)[0][0]"
   ]
  },
  {
   "cell_type": "code",
   "execution_count": null,
   "metadata": {},
   "outputs": [],
   "source": []
  }
 ],
 "metadata": {
  "kernelspec": {
   "display_name": "Python 3",
   "language": "python",
   "name": "python3"
  },
  "language_info": {
   "codemirror_mode": {
    "name": "ipython",
    "version": 3
   },
   "file_extension": ".py",
   "mimetype": "text/x-python",
   "name": "python",
   "nbconvert_exporter": "python",
   "pygments_lexer": "ipython3",
   "version": "3.7.1"
  }
 },
 "nbformat": 4,
 "nbformat_minor": 2
}
