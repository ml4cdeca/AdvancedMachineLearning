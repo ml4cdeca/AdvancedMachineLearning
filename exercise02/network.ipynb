{
 "cells": [
  {
   "cell_type": "markdown",
   "metadata": {},
   "source": [
    "## 3. Linear Activation Function"
   ]
  },
  {
   "cell_type": "markdown",
   "metadata": {},
   "source": [
    "$$\n",
    "Z_L=\\phi_L\\left(B_L\\cdot \\tilde Z_{L-1} \\right) \\\\\n",
    "Z_L=\\phi_L\\left(B_L\\cdot \\phi_{L-1}\\left(B_{L-1}\\cdot \\tilde Z_{L-2} \\right) \\right) \\\\\n",
    "$$\n",
    "Let $f_l: \\mathbb R^{H_{l-1}}\\rightarrow\\mathbb R^{H_{l}}$ be the function that calculates the pre-activations: $Z_{l-1} \\mapsto \\tilde Z_l= B_l Z_{l-1}$ which is obviously a linear function. So the total function reads\n",
    "$$\n",
    "Z_L=\\underbrace{\\phi_L \\circ f_L \\circ \\phi_{L-1} \\circ f_{L-1} \\circ \\ldots \\circ \\phi_1 \\circ f_1}_{=:\\mathbf F} (Z_0)\n",
    "$$\n",
    "As the composition between two linear functions is still a linear function, $\\mathbf F$ is also a linear function which can be written as a composition of two arbitrary linear functions $\\tilde f,\\tilde \\phi$ so that $\\mathbf F = \\tilde\\phi \\circ \\tilde f$.\n",
    "$$\\Rightarrow Z_L=\\tilde\\phi \\circ \\tilde f (Z_0)$$That means that a neural network with a linear activation function is equivalent to a 1-layer neural network."
   ]
  },
  {
   "cell_type": "markdown",
   "metadata": {},
   "source": [
    "## 4. Application"
   ]
  },
  {
   "cell_type": "code",
   "execution_count": 124,
   "metadata": {},
   "outputs": [],
   "source": [
    "def softmax(x):\n",
    "    '''\n",
    "    x: ndarray. This function computes the softmax of x\n",
    "    '''\n",
    "    return (np.exp(x)/np.sum(np.exp(x),axis=0)).T\n",
    "\n",
    "\n",
    "#Cross entropy loss\n",
    "def cross_entropy_loss(y_pred, y):\n",
    "    N,C=1,0\n",
    "    if len(y_pred.shape)>1:\n",
    "        N,C=y_pred.shape\n",
    "    else:\n",
    "        C=len(y_pred)\n",
    "    loss=-np.log(np.choose(y,y_pred.T)).mean()\n",
    "    #gradient\n",
    "    dW=y_pred\n",
    "    if len(y_pred.shape)>1:\n",
    "        dW[range(N),y]-=1\n",
    "    else:\n",
    "        dW[y]-=1\n",
    "    dW/=N\n",
    "    return loss, dW"
   ]
  },
  {
   "cell_type": "code",
   "execution_count": 185,
   "metadata": {},
   "outputs": [],
   "source": [
    "import numpy as np\n",
    "from sklearn import datasets\n",
    "\n",
    "####################################\n",
    "\n",
    "class ReLULayer(object):\n",
    "    def forward(self, input):\n",
    "        # remember the input for later backpropagation\n",
    "        self.input = input\n",
    "        # return the ReLU of the input\n",
    "        relu = input.copy()\n",
    "        relu[np.where(input<0)]=0\n",
    "        #np.max(np.hstack((input,np.zeros(len(input))))) # your code here\n",
    "        return relu\n",
    "\n",
    "    def backward(self, upstream_gradient):\n",
    "        # compute the derivative of ReLU from upstream_gradient and the stored input\n",
    "        grad_diag = np.ones(len(self.input))\n",
    "        grad_diag[self.input < 0] = 0\n",
    "        grad_diag = np.diag(grad_diag)\n",
    "        return grad_diag @ upstream_gradient\n",
    "\n",
    "    def update(self, learning_rate):\n",
    "        pass # ReLU is parameter-free\n",
    "\n",
    "####################################\n",
    "\n",
    "class OutputLayer(object):\n",
    "    def __init__(self, n_classes):\n",
    "        self.n_classes = n_classes\n",
    "\n",
    "    def forward(self, input):\n",
    "        # remember the input for later backpropagation\n",
    "        self.input = input\n",
    "        # return the softmax of the input\n",
    "        softmax = np.exp(input)/np.sum(np.exp(input),axis=0) # your code here\n",
    "        return softmax\n",
    "\n",
    "    def backward(self, predicted_posteriors, true_labels):\n",
    "        # return the loss derivative with respect to the stored inputs\n",
    "        # (use cross-entropy loss and the chain rule for softmax,\n",
    "        #  as derived in the lecture)\n",
    "        loss, grad = cross_entropy_loss(predicted_posteriors, true_labels) #TODO: define reg\n",
    "        downstream_gradient = grad \n",
    "        return downstream_gradient\n",
    "\n",
    "    def update(self, learning_rate):\n",
    "        pass # softmax is parameter-free\n",
    "\n",
    "####################################\n",
    "\n",
    "class LinearLayer(object):\n",
    "    def __init__(self, n_inputs, n_outputs):\n",
    "        self.n_inputs  = n_inputs\n",
    "        self.n_outputs = n_outputs\n",
    "        # randomly initialize weights and intercepts\n",
    "        self.B = np.random.normal(size=(n_inputs,n_outputs)) # your code here\n",
    "        self.b = np.random.normal(size=(n_outputs)) # your code here\n",
    "        # initialize gradients\n",
    "        self.grad_B = np.zeros_like(self.B)\n",
    "        self.grad_b = np.zeros_like(self.b)\n",
    "\n",
    "    def forward(self, input):\n",
    "        # remember the input for later backpropagation\n",
    "        self.input = input\n",
    "        # compute the scalar product of input and weights\n",
    "        # (these are the preactivations for the subsequent non-linear layer)\n",
    "        preactivations = input@self.B+self.b\n",
    "        return preactivations\n",
    "\n",
    "    def backward(self, upstream_gradient):\n",
    "        # compute the derivative of the weights from\n",
    "        # upstream_gradient and the stored input\n",
    "        # TODO: check if true\n",
    "        self.grad_b += 0\n",
    "        self.grad_B += np.outer(upstream_gradient, self.input.T).T\n",
    "\n",
    "        # compute the downstream gradient to be passed to the preceding layer\n",
    "        return self.B @ upstream_gradient\n",
    "\n",
    "    def update(self, learning_rate):\n",
    "        # update the weights by batch gradient descent\n",
    "        self.B = self.B - learning_rate * self.grad_B\n",
    "        self.b = self.b - learning_rate * self.grad_b\n",
    "        #reset gradients\n",
    "        self.grad_B = 0\n",
    "        self.grad_b = 0\n",
    "\n",
    "####################################\n",
    "\n",
    "class MLP(object):\n",
    "    def __init__(self, n_features, layer_sizes):\n",
    "        # constuct a multi-layer perceptron\n",
    "        # with ReLU activation in the hidden layers and softmax output\n",
    "        # (i.e. it predicts the posterior probability of a classification problem)\n",
    "        #\n",
    "        # n_features: number of inputs\n",
    "        # len(layer_size): number of layers\n",
    "        # layer_size[k]: number of neurons in layer k\n",
    "        # (specifically: layer_sizes[-1] is the number of classes)\n",
    "        self.n_layers = len(layer_sizes)\n",
    "        self.layers   = []\n",
    "\n",
    "        # create interior layers (linear + ReLU)\n",
    "        n_in = n_features\n",
    "        for n_out in layer_sizes[:-1]:\n",
    "            self.layers.append(LinearLayer(n_in, n_out))\n",
    "            self.layers.append(ReLULayer())\n",
    "            n_in = n_out\n",
    "\n",
    "        # create last linear layer + output layer\n",
    "        n_out = layer_sizes[-1]\n",
    "        self.layers.append(LinearLayer(n_in, n_out))\n",
    "        self.layers.append(OutputLayer(n_out))\n",
    "\n",
    "    def forward(self, X):\n",
    "        # X is a mini-batch of instances\n",
    "        batch_size = X.shape[0]\n",
    "        # flatten the other dimensions of X (in case instances are images)\n",
    "        #X = X.reshape(batch_size, -1)\n",
    "\n",
    "        # compute the forward pass\n",
    "        # (implicitly stores internal activations for later backpropagation)\n",
    "        result = X\n",
    "        for layer in self.layers:\n",
    "            result = layer.forward(result)\n",
    "        return result\n",
    "\n",
    "    def backward(self, predicted_posteriors, true_classes):\n",
    "        # perform backpropagation w.r.t. the prediction for the latest mini-batch X\n",
    "        grad = self.layers[-1].backward(predicted_posteriors,true_classes)\n",
    "        # work back from the last layer\n",
    "        for layer in self.layers[-2::-1]:\n",
    "            grad=layer.backward(grad)\n",
    "            \n",
    "\n",
    "    def update(self, X, Y, learning_rate):\n",
    "        posteriors = self.forward(X)\n",
    "        self.backward(posteriors, Y)\n",
    "        for layer in self.layers:\n",
    "            layer.update(learning_rate)\n",
    "\n",
    "    def train(self, x, y, n_epochs, batch_size, learning_rate):\n",
    "        N = len(x)\n",
    "        n_batches = N // batch_size\n",
    "        for i in range(n_epochs):\n",
    "            # print(\"Epoch\", i)\n",
    "            # reorder data for every epoch\n",
    "            # (i.e. sample mini-batches without replacement)\n",
    "            permutation = np.random.permutation(N)\n",
    "\n",
    "            for batch in range(n_batches):\n",
    "                # create mini-batch\n",
    "                start = batch * batch_size\n",
    "                x_batch = x[permutation[start:start+batch_size]]\n",
    "                y_batch = y[permutation[start:start+batch_size]]\n",
    "\n",
    "                # perform one forward and backward pass and update network parameters\n",
    "                for j in range(len(y_batch)):\n",
    "                    self.update(x_batch[j], y_batch[j], learning_rate)"
   ]
  },
  {
   "cell_type": "code",
   "execution_count": 186,
   "metadata": {},
   "outputs": [],
   "source": [
    "# set training/test set size\n",
    "N = 2000\n",
    "\n",
    "# create training and test data\n",
    "X_train, Y_train = datasets.make_moons(N, noise=0.05)\n",
    "X_test,  Y_test  = datasets.make_moons(N, noise=0.05)\n",
    "n_features = 2\n",
    "n_classes  = 2\n",
    "\n",
    "# standardize features to be in [-1, 1]\n",
    "offset  = X_train.min(axis=0)\n",
    "scaling = X_train.max(axis=0) - offset\n",
    "X_train = ((X_train - offset) / scaling - 0.5) * 2.0\n",
    "X_test  = ((X_test  - offset) / scaling - 0.5) * 2.0"
   ]
  },
  {
   "cell_type": "code",
   "execution_count": 187,
   "metadata": {},
   "outputs": [
    {
     "data": {
      "text/plain": [
       "<matplotlib.legend.Legend at 0x27ed2eed710>"
      ]
     },
     "execution_count": 187,
     "metadata": {},
     "output_type": "execute_result"
    },
    {
     "data": {
      "image/png": "[encoded data removed]",
      "text/plain": [
       "<Figure size 432x288 with 1 Axes>"
      ]
     },
     "metadata": {
      "needs_background": "light"
     },
     "output_type": "display_data"
    }
   ],
   "source": [
    "import matplotlib.pyplot as plt\n",
    "plt.scatter(*X_train.T,label='training')\n",
    "plt.scatter(*X_test.T,label='test')\n",
    "plt.legend()"
   ]
  },
  {
   "cell_type": "code",
   "execution_count": 188,
   "metadata": {},
   "outputs": [],
   "source": [
    "# set hyperparameters (play with these!)\n",
    "layer_sizes = [5, 5, n_classes]\n",
    "n_epochs = 5\n",
    "batch_size = 200\n",
    "learning_rate = 0.05\n",
    "\n",
    "# create network\n",
    "network = MLP(n_features, layer_sizes)\n",
    "\n"
   ]
  },
  {
   "cell_type": "code",
   "execution_count": 189,
   "metadata": {},
   "outputs": [],
   "source": [
    "# train\n",
    "network.train(X_train, Y_train, n_epochs, batch_size, learning_rate)"
   ]
  },
  {
   "cell_type": "code",
   "execution_count": 191,
   "metadata": {},
   "outputs": [
    {
     "name": "stdout",
     "output_type": "stream",
     "text": [
      "error rate: 0.0\n"
     ]
    }
   ],
   "source": [
    "# test\n",
    "predicted_posteriors = network.forward(X_test)\n",
    "# determine class predictions from posteriors by winner-takes-all rule\n",
    "predicted_classes = np.argmax(predicted_posteriors,axis=1) # your code here\n",
    "# compute and output the error rate of predicted_classes\n",
    "error_rate = np.count_nonzero(predicted_classes!=Y_test)/len(Y_test) # your code here\n",
    "print(\"error rate:\", error_rate)"
   ]
  },
  {
   "cell_type": "code",
   "execution_count": null,
   "metadata": {},
   "outputs": [],
   "source": []
  }
 ],
 "metadata": {
  "kernelspec": {
   "display_name": "Python 3",
   "language": "python",
   "name": "python3"
  },
  "language_info": {
   "codemirror_mode": {
    "name": "ipython",
    "version": 3
   },
   "file_extension": ".py",
   "mimetype": "text/x-python",
   "name": "python",
   "nbconvert_exporter": "python",
   "pygments_lexer": "ipython3",
   "version": "3.7.1"
  }
 },
 "nbformat": 4,
 "nbformat_minor": 2
}
